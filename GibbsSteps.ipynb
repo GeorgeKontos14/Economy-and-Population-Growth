{
  "cells": [
    {
      "cell_type": "markdown",
      "metadata": {
        "id": "qlSYXD6py3Td"
      },
      "source": [
        "# Gibbs Sampler"
      ]
    },
    {
      "cell_type": "markdown",
      "metadata": {
        "id": "0TI0fg1Dy6wv"
      },
      "source": [
        "## Setup"
      ]
    },
    {
      "cell_type": "code",
      "execution_count": 1,
      "metadata": {
        "id": "v6RqN6Tey95l"
      },
      "outputs": [],
      "source": [
        "import torch\n",
        "import os\n",
        "# os.chdir('/content/Economy-and-Population-Growth')"
      ]
    },
    {
      "cell_type": "code",
      "execution_count": 2,
      "metadata": {
        "colab": {
          "base_uri": "https://localhost:8080/"
        },
        "id": "NI6sMEB7zC8F",
        "outputId": "344ba04d-e739-4b1f-d956-17fa3f6bc391"
      },
      "outputs": [],
      "source": [
        "# !git pull origin"
      ]
    },
    {
      "cell_type": "code",
      "execution_count": 3,
      "metadata": {},
      "outputs": [
        {
          "data": {
            "text/plain": [
              "False"
            ]
          },
          "execution_count": 3,
          "metadata": {},
          "output_type": "execute_result"
        }
      ],
      "source": [
        "torch.cuda.is_available()"
      ]
    },
    {
      "cell_type": "code",
      "execution_count": 4,
      "metadata": {
        "id": "ZeDPSE1SzE8q"
      },
      "outputs": [],
      "source": [
        "from DataGeneration import generate_multiple_series\n",
        "from Gibbs.Steps import *\n"
      ]
    },
    {
      "cell_type": "code",
      "execution_count": null,
      "metadata": {
        "id": "pvxSuChtzUG0"
      },
      "outputs": [],
      "source": [
        "if torch.cuda.is_available():\n",
        "    device = torch.device(\"cuda\")\n",
        "else:\n",
        "    device = torch.device(\"cpu\")"
      ]
    },
    {
      "cell_type": "markdown",
      "metadata": {
        "id": "TyZrPydXzK9B"
      },
      "source": [
        "## Iniatlizing parameters"
      ]
    },
    {
      "cell_type": "code",
      "execution_count": null,
      "metadata": {
        "id": "J4V0Q83QzP5X"
      },
      "outputs": [],
      "source": [
        "data = generate_multiple_series(150, 120, 10**4, 10**5, \"gibbs.csv\")\n",
        "w = np.random.random(120)\n",
        "w = w/np.sum(w)\n",
        "w = torch.tensor(w, device=device)"
      ]
    },
    {
      "cell_type": "code",
      "execution_count": null,
      "metadata": {
        "id": "e3NbKXj8zYgm"
      },
      "outputs": [],
      "source": [
        "n = 120\n",
        "m = 25\n",
        "l = 10\n",
        "T = 150\n",
        "q = 16\n",
        "q_hat = q+15"
      ]
    },
    {
      "cell_type": "code",
      "execution_count": null,
      "metadata": {
        "colab": {
          "base_uri": "https://localhost:8080/"
        },
        "id": "U5UPtkE-4pzP",
        "outputId": "403cb605-5b38-4be0-df72-4a8dfc32f2a9"
      },
      "outputs": [],
      "source": [
        "X_i, F, S_m, sigma_m, Sigma_m, rho_m, K, J, lambdas, kappas, p_parameters, s_Da, A, Sigma_A, f_0, mu_m, mu_c, omega_squared, U, G, C, Y, R_hat = initialize(data, n, m, l, T, q, q_hat, device)"
      ]
    },
    {
      "cell_type": "markdown",
      "metadata": {
        "id": "3wyp97NU5Btk"
      },
      "source": [
        "## Step 1"
      ]
    },
    {
      "cell_type": "markdown",
      "metadata": {
        "id": "IJlHJFo86k6_"
      },
      "source": [
        "Stable parameters:"
      ]
    },
    {
      "cell_type": "code",
      "execution_count": null,
      "metadata": {
        "id": "_5ugUZT95EAN"
      },
      "outputs": [],
      "source": [
        "I, ws, Delta = step1_params(q_hat, n, U, w, device)"
      ]
    },
    {
      "cell_type": "code",
      "execution_count": null,
      "metadata": {
        "id": "Kso5G5_29G1O"
      },
      "outputs": [],
      "source": [
        "X_i, C, Sigma, mu_C, Y0, X = step1(X_i, U, w, ws, Delta, Y, C, G, J, F, mu_c, lambdas, n, q_hat, device)"
      ]
    },
    {
      "cell_type": "markdown",
      "metadata": {
        "id": "3SAENY2e_3Wk"
      },
      "source": [
        "## Step 2"
      ]
    },
    {
      "cell_type": "markdown",
      "metadata": {
        "id": "_a1TacxZAfAT"
      },
      "source": [
        "Standard parameters:"
      ]
    },
    {
      "cell_type": "code",
      "execution_count": null,
      "metadata": {
        "id": "mQ-bvbQv_5Iw"
      },
      "outputs": [],
      "source": [
        "e = step2_params(n, I, device)"
      ]
    },
    {
      "cell_type": "code",
      "execution_count": null,
      "metadata": {
        "id": "Jv-Pyt_dEfeg"
      },
      "outputs": [],
      "source": [
        "F, S_m, Sigma_F = step2(e, f_0, mu_m, sigma_m, Sigma_m, s_Da, Sigma_A, Sigma, Delta, mu_C, ws, q_hat, X, Y0, device)"
      ]
    },
    {
      "cell_type": "markdown",
      "metadata": {
        "id": "9kGwyPhGEzNZ"
      },
      "source": [
        "## Step 3"
      ]
    },
    {
      "cell_type": "code",
      "execution_count": null,
      "metadata": {
        "id": "s3NLaB7OSnQr"
      },
      "outputs": [],
      "source": [
        "G, inv_g_j, inv_c_i = step3(omega_squared, lambdas, kappas,  mu_c, K, J, q_hat, m, n, C, U, device)"
      ]
    },
    {
      "cell_type": "markdown",
      "metadata": {
        "id": "y54brlsTrfDg"
      },
      "source": [
        "## Step 4"
      ]
    },
    {
      "cell_type": "code",
      "execution_count": null,
      "metadata": {
        "id": "tz7qOtMbvLGd"
      },
      "outputs": [],
      "source": [
        "U.H, inv_h_k = step4(lambdas, kappas, U, omega_squared, K, G, inv_g_j, l, q_hat, device)"
      ]
    },
    {
      "cell_type": "markdown",
      "metadata": {
        "id": "hvDqW5qqvl1G"
      },
      "source": [
        "## Step 5"
      ]
    },
    {
      "cell_type": "code",
      "execution_count": null,
      "metadata": {
        "id": "hx39p0gxzHxD"
      },
      "outputs": [],
      "source": [
        "mu_c = step5(q_hat, lambdas, C, G, J, inv_c_i, n, device)"
      ]
    },
    {
      "cell_type": "markdown",
      "metadata": {
        "id": "zFtAvA_z2y6E"
      },
      "source": [
        "## Step 6"
      ]
    },
    {
      "cell_type": "code",
      "execution_count": null,
      "metadata": {},
      "outputs": [],
      "source": [
        "lambdas.lambda_c_i = step6(omega_squared, kappas, U, p_parameters, mu_c, C, G, J, q_hat, n, device)"
      ]
    },
    {
      "cell_type": "markdown",
      "metadata": {},
      "source": [
        "## Step 7"
      ]
    },
    {
      "cell_type": "code",
      "execution_count": null,
      "metadata": {},
      "outputs": [],
      "source": [
        "lambdas.lambda_g_j = step7(omega_squared, p_parameters, kappas, U, G, m, K, q_hat, device)"
      ]
    },
    {
      "cell_type": "markdown",
      "metadata": {},
      "source": [
        "## Step 8"
      ]
    },
    {
      "cell_type": "code",
      "execution_count": null,
      "metadata": {},
      "outputs": [],
      "source": [
        "U.U_c, U.theta_c_i = step8(omega_squared, p_parameters, kappas, lambdas, U, X_i, F, mu_c, G, J, q_hat, n, device)"
      ]
    },
    {
      "cell_type": "markdown",
      "metadata": {},
      "source": [
        "## Step 9"
      ]
    },
    {
      "cell_type": "code",
      "execution_count": null,
      "metadata": {},
      "outputs": [],
      "source": [
        "U.U_g, U.theta_g_j = step9(omega_squared, p_parameters, kappas, lambdas, U, G, K, m, device)"
      ]
    },
    {
      "cell_type": "markdown",
      "metadata": {},
      "source": [
        "## Step 10"
      ]
    },
    {
      "cell_type": "code",
      "execution_count": null,
      "metadata": {},
      "outputs": [],
      "source": [
        "U.theta_h_k = step10(omega_squared, p_parameters, kappas, U, l, device)"
      ]
    },
    {
      "cell_type": "markdown",
      "metadata": {},
      "source": [
        "## Step 11"
      ]
    },
    {
      "cell_type": "code",
      "execution_count": null,
      "metadata": {},
      "outputs": [],
      "source": [
        "omega_squared = step11(n, m, l, kappas, lambdas, U, q_hat)"
      ]
    },
    {
      "cell_type": "markdown",
      "metadata": {},
      "source": [
        "## Step 12"
      ]
    },
    {
      "cell_type": "code",
      "execution_count": null,
      "metadata": {},
      "outputs": [],
      "source": [
        "kappas.kappa_c_i = step12(omega_squared, p_parameters, lambdas, U, q_hat, n, device)"
      ]
    },
    {
      "cell_type": "markdown",
      "metadata": {},
      "source": [
        "## Step 13"
      ]
    },
    {
      "cell_type": "code",
      "execution_count": null,
      "metadata": {},
      "outputs": [],
      "source": [
        "kappas.kappa_g_j = step13(omega_squared, p_parameters, lambdas, U, q_hat, m, device)"
      ]
    },
    {
      "cell_type": "markdown",
      "metadata": {},
      "source": [
        "## Step 14"
      ]
    },
    {
      "cell_type": "code",
      "execution_count": null,
      "metadata": {},
      "outputs": [],
      "source": [
        "kappas.kappa_h_k = step14(omega_squared, p_parameters, U, q_hat, l, device)"
      ]
    },
    {
      "cell_type": "markdown",
      "metadata": {},
      "source": [
        "## Step 15"
      ]
    },
    {
      "cell_type": "code",
      "execution_count": null,
      "metadata": {},
      "outputs": [],
      "source": [
        "J = step15(omega_squared, kappas, lambdas, C, G, U, n, m, mu_c, q_hat, device)"
      ]
    },
    {
      "cell_type": "markdown",
      "metadata": {},
      "source": [
        "## Step 16"
      ]
    },
    {
      "cell_type": "code",
      "execution_count": null,
      "metadata": {},
      "outputs": [],
      "source": [
        "K = step16(omega_squared, kappas, lambdas, G, U, m, l, device)"
      ]
    },
    {
      "cell_type": "markdown",
      "metadata": {},
      "source": [
        "## Step 17"
      ]
    },
    {
      "cell_type": "code",
      "execution_count": null,
      "metadata": {},
      "outputs": [],
      "source": [
        "f0, mu_m = step17(F, Sigma_F, q_hat, device)"
      ]
    },
    {
      "cell_type": "markdown",
      "metadata": {},
      "source": [
        "## Step 18"
      ]
    },
    {
      "cell_type": "code",
      "execution_count": null,
      "metadata": {},
      "outputs": [],
      "source": [
        "s_Da, A = step18(F, S_m, Sigma_A, f_0, mu_m, q_hat, device)"
      ]
    },
    {
      "cell_type": "markdown",
      "metadata": {},
      "source": [
        "## Step 19"
      ]
    },
    {
      "cell_type": "code",
      "execution_count": null,
      "metadata": {},
      "outputs": [],
      "source": [
        "sigma_m = step19(S_m, Sigma_m, p_parameters, q_hat, device)"
      ]
    },
    {
      "cell_type": "markdown",
      "metadata": {},
      "source": [
        "## Step 20"
      ]
    },
    {
      "cell_type": "code",
      "execution_count": null,
      "metadata": {},
      "outputs": [],
      "source": [
        "rho_m, Sigma_m = step20(U, sigma_m, S_m, device)"
      ]
    },
    {
      "cell_type": "markdown",
      "metadata": {},
      "source": [
        "## Step 21"
      ]
    },
    {
      "cell_type": "code",
      "execution_count": null,
      "metadata": {},
      "outputs": [],
      "source": [
        "p_parameters.p_c_lambda = step21(lambdas, device)"
      ]
    },
    {
      "cell_type": "markdown",
      "metadata": {},
      "source": [
        "## Step 22"
      ]
    },
    {
      "cell_type": "code",
      "execution_count": null,
      "metadata": {},
      "outputs": [],
      "source": [
        "p_parameters.p_g_lambda = step22(lambdas, device)"
      ]
    },
    {
      "cell_type": "markdown",
      "metadata": {},
      "source": [
        "## Step 23"
      ]
    },
    {
      "cell_type": "code",
      "execution_count": null,
      "metadata": {},
      "outputs": [],
      "source": [
        "p_parameters.p_c_theta = step23(U, device)"
      ]
    },
    {
      "cell_type": "markdown",
      "metadata": {},
      "source": [
        "## Step 24"
      ]
    },
    {
      "cell_type": "code",
      "execution_count": null,
      "metadata": {},
      "outputs": [],
      "source": [
        "p_parameters.p_g_theta = step24(U, device)"
      ]
    },
    {
      "cell_type": "markdown",
      "metadata": {},
      "source": [
        "## Step 25"
      ]
    },
    {
      "cell_type": "code",
      "execution_count": null,
      "metadata": {},
      "outputs": [],
      "source": [
        "p_parameters.p_h_theta = step25(U, device)"
      ]
    },
    {
      "cell_type": "markdown",
      "metadata": {},
      "source": [
        "## Step 26"
      ]
    },
    {
      "cell_type": "code",
      "execution_count": null,
      "metadata": {},
      "outputs": [],
      "source": [
        "p_parameters.p_c_kappa = step26(kappas, device)"
      ]
    },
    {
      "cell_type": "markdown",
      "metadata": {},
      "source": [
        "## Step 27"
      ]
    },
    {
      "cell_type": "code",
      "execution_count": null,
      "metadata": {},
      "outputs": [],
      "source": [
        "p_parameters.p_g_kappa = step27(kappas, device)"
      ]
    },
    {
      "cell_type": "markdown",
      "metadata": {},
      "source": [
        "## Step 28"
      ]
    },
    {
      "cell_type": "code",
      "execution_count": null,
      "metadata": {},
      "outputs": [],
      "source": [
        "p_parameters.p_h_k = step28(kappas, device)"
      ]
    }
  ],
  "metadata": {
    "accelerator": "GPU",
    "colab": {
      "collapsed_sections": [
        "TyZrPydXzK9B",
        "3wyp97NU5Btk",
        "3SAENY2e_3Wk",
        "9kGwyPhGEzNZ",
        "y54brlsTrfDg",
        "hvDqW5qqvl1G"
      ],
      "gpuType": "T4",
      "provenance": []
    },
    "kernelspec": {
      "display_name": "Python 3",
      "name": "python3"
    },
    "language_info": {
      "codemirror_mode": {
        "name": "ipython",
        "version": 3
      },
      "file_extension": ".py",
      "mimetype": "text/x-python",
      "name": "python",
      "nbconvert_exporter": "python",
      "pygments_lexer": "ipython3",
      "version": "3.10.11"
    }
  },
  "nbformat": 4,
  "nbformat_minor": 0
}
