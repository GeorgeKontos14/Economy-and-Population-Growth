{
 "cells": [
  {
   "cell_type": "code",
   "execution_count": 1,
   "metadata": {},
   "outputs": [],
   "source": [
    "import torch\n",
    "import os\n",
    "# os.chdir('/content/Economy-and-Population-Growth')"
   ]
  },
  {
   "cell_type": "code",
   "execution_count": null,
   "metadata": {},
   "outputs": [],
   "source": [
    "# !git clone https://github.com/GeorgeKontos14/Economy-and-Population-Growth.git"
   ]
  },
  {
   "cell_type": "code",
   "execution_count": null,
   "metadata": {},
   "outputs": [],
   "source": [
    "# !git pull origin"
   ]
  },
  {
   "cell_type": "code",
   "execution_count": 2,
   "metadata": {},
   "outputs": [],
   "source": [
    "torch.cuda.is_available()\n",
    "from DataGeneration import generate_multiple_series, read_data\n",
    "from Gibbs.Steps import *\n",
    "from Gibbs.Parameters import step1_params, step2_params\n",
    "from StoreData import *\n",
    "\n",
    "if torch.cuda.is_available():\n",
    "    device = torch.device(\"cuda\")\n",
    "else:\n",
    "    device = torch.device(\"cpu\")"
   ]
  },
  {
   "cell_type": "code",
   "execution_count": 3,
   "metadata": {},
   "outputs": [],
   "source": [
    "generate = False\n",
    "# generate = True\n",
    "if generate:\n",
    "    data = generate_multiple_series(150, 120, 10**4, 10**5, \"gibbs.csv\")\n",
    "    w = np.random.random(120)\n",
    "    w = w/np.sum(w)\n",
    "    write_once(w, \"weights.csv\")\n",
    "else:\n",
    "    data = read_data(\"gibbs.csv\")\n",
    "    w = read_one_row(\"weights.csv\")\n",
    "w = torch.tensor(w, device=device)\n",
    "n = 120\n",
    "m = 25\n",
    "l = 10\n",
    "T = 150\n",
    "q = 16\n",
    "q_hat = q+15\n",
    "burn_in = 1\n",
    "draws = 3"
   ]
  },
  {
   "cell_type": "code",
   "execution_count": 4,
   "metadata": {},
   "outputs": [],
   "source": [
    "X_path = \"GibbsState/X_i.csv\"\n",
    "F_path = \"GibbsState/F.csv\"\n",
    "S_m_path = \"GibbsState/S_m.csv\"\n",
    "G_path = \"GibbsState/G.csv\"\n",
    "H_path = \"GibbsState/H.csv\"\n",
    "lambda_c_i_path = \"GibbsState/Lambdas/c_i.csv\"\n",
    "lambda_g_j_path = \"GibbsState/Lambdas/g_j.csv\"\n",
    "theta_c_i_path = \"GibbsState/Thetas/c_i.csv\"\n",
    "theta_g_j_path = \"GibbsState/Thetas/g_j.csv\"\n",
    "theta_h_k_path = \"GibbsState/Thetas/h_k.csv\"\n",
    "kappa_c_i_path = \"GibbsState/Kappas/c_i.csv\"\n",
    "kappa_g_j_path = \"GibbsState/Kappas/g_j.csv\"\n",
    "kappa_h_k_path = \"GibbsState/Kappas/h_k.csv\"\n",
    "J_path = \"GibbsState/J.csv\"\n",
    "K_path = \"GibbsState/K.csv\"\n",
    "p_c_lambda_path = \"GibbsState/Ps/c_lambda.csv\"\n",
    "p_g_lambda_path = \"GibbsState/Ps/g_lambda.csv\"\n",
    "p_c_theta_path = \"GibbsState/Ps/c_theta.csv\"\n",
    "p_g_theta_path = \"GibbsState/Ps/g_theta.csv\"\n",
    "p_h_theta_path = \"GibbsState/Ps/h_theta.csv\"\n",
    "p_c_kappa_path = \"GibbsState/Ps/c_kappa.csv\"\n",
    "p_g_kappa_path = \"GibbsState/Ps/g_kappa.csv\"\n",
    "p_h_kappa_path = \"GibbsState/Ps/h_kappa.csv\"\n",
    "sDa_path = \"GibbsState/sDa.csv\"\n",
    "mu_c_path = \"GibbsState/mu_c.csv\"\n",
    "sigma_m_path = \"GibbsState/sigma_m.csv\"\n",
    "rho_m_path = \"GibbsState/rho_m.csv\"\n",
    "omega_path = \"GibbsState/omega.csv\"\n",
    "paths = [X_path, F_path, S_m_path, G_path, H_path, lambda_c_i_path, lambda_g_j_path, theta_c_i_path, theta_g_j_path, theta_h_k_path, kappa_c_i_path, kappa_g_j_path, kappa_h_k_path, J_path, K_path, p_c_lambda_path, p_g_lambda_path, p_c_theta_path, p_g_theta_path, p_h_theta_path, p_c_kappa_path, p_g_kappa_path, p_h_kappa_path, sDa_path, mu_c_path, sigma_m_path, rho_m_path, omega_path]"
   ]
  },
  {
   "cell_type": "code",
   "execution_count": 5,
   "metadata": {},
   "outputs": [],
   "source": [
    "for path in paths:\n",
    "    clear_csv(path)"
   ]
  },
  {
   "cell_type": "code",
   "execution_count": 6,
   "metadata": {},
   "outputs": [],
   "source": [
    "X_list, F_list, S_m_list, G_list, H_list, l_c_i_list, l_g_j_list, theta_c_i_list, theta_g_j_list, theta_h_k_list, kappa_c_i_list, kappa_g_j_list, kappa_h_k_list, J_list, K_list, p_c_l_list, p_g_l_list, p_c_th_list, p_g_th_list, p_h_th_list, p_c_k_list, p_g_k_list, p_h_k_list, sDa_list, mu_c_list, sigma_m_list, rho_m_list, omega_list = run_Gibbs(data, n, m, l, w, T, q, q_hat, burn_in, draws, device)"
   ]
  },
  {
   "cell_type": "code",
   "execution_count": 7,
   "metadata": {},
   "outputs": [],
   "source": [
    "store_Gibbs(X_list, F_list, S_m_list, G_list, H_list, l_c_i_list, l_g_j_list, theta_c_i_list, theta_g_j_list, theta_h_k_list, kappa_c_i_list, kappa_g_j_list, kappa_h_k_list, J_list, K_list, p_c_l_list, p_g_l_list, p_c_th_list, p_g_th_list, p_h_th_list, p_c_k_list, p_g_k_list, p_h_k_list, sDa_list, mu_c_list, sigma_m_list, rho_m_list, omega_list, X_path, F_path, S_m_path, G_path, H_path, lambda_c_i_path, lambda_g_j_path, theta_c_i_path, theta_g_j_path, theta_h_k_path, kappa_c_i_path, kappa_g_j_path, kappa_h_k_path, J_path, K_path, p_c_lambda_path, p_g_lambda_path, p_c_theta_path, p_g_theta_path, p_h_theta_path, p_c_kappa_path, p_g_kappa_path, p_h_kappa_path, sDa_path, mu_c_path, sigma_m_path, rho_m_path, omega_path)"
   ]
  }
 ],
 "metadata": {
  "kernelspec": {
   "display_name": "Python 3",
   "language": "python",
   "name": "python3"
  },
  "language_info": {
   "codemirror_mode": {
    "name": "ipython",
    "version": 3
   },
   "file_extension": ".py",
   "mimetype": "text/x-python",
   "name": "python",
   "nbconvert_exporter": "python",
   "pygments_lexer": "ipython3",
   "version": "3.10.11"
  }
 },
 "nbformat": 4,
 "nbformat_minor": 2
}
