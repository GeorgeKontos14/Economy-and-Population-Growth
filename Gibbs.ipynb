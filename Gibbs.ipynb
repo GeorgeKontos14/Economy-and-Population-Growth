{
  "cells": [
    {
      "cell_type": "markdown",
      "metadata": {
        "id": "qlSYXD6py3Td"
      },
      "source": [
        "# Gibbs Sampler"
      ]
    },
    {
      "cell_type": "markdown",
      "metadata": {
        "id": "0TI0fg1Dy6wv"
      },
      "source": [
        "## Setup"
      ]
    },
    {
      "cell_type": "code",
      "execution_count": 1,
      "metadata": {
        "id": "v6RqN6Tey95l"
      },
      "outputs": [],
      "source": [
        "import torch\n",
        "import os\n",
        "import numpy as np\n",
        "from decimal import Decimal, getcontext\n",
        "# os.chdir('/content/Economy-and-Population-Growth')"
      ]
    },
    {
      "cell_type": "code",
      "execution_count": 2,
      "metadata": {
        "colab": {
          "base_uri": "https://localhost:8080/"
        },
        "id": "NI6sMEB7zC8F",
        "outputId": "344ba04d-e739-4b1f-d956-17fa3f6bc391"
      },
      "outputs": [],
      "source": [
        "# !git pull origin"
      ]
    },
    {
      "cell_type": "code",
      "execution_count": 3,
      "metadata": {
        "colab": {
          "base_uri": "https://localhost:8080/"
        },
        "id": "AVfIGkPJzHSX",
        "outputId": "1544e3e1-2a22-4a5e-a6fd-ee9a5ce5f78d"
      },
      "outputs": [
        {
          "data": {
            "text/plain": [
              "False"
            ]
          },
          "execution_count": 3,
          "metadata": {},
          "output_type": "execute_result"
        }
      ],
      "source": [
        "torch.cuda.is_available()"
      ]
    },
    {
      "cell_type": "code",
      "execution_count": 4,
      "metadata": {
        "id": "ZeDPSE1SzE8q"
      },
      "outputs": [],
      "source": [
        "from Gibbs.GibbsSampler import GibbsSampler\n",
        "from DataGeneration import generate_multiple_series\n",
        "from Gibbs import Initialize\n",
        "from Trends import Regressors\n",
        "from Trends import LowFrequencyTrends\n",
        "from Gibbs.Parameters import *\n",
        "from Gibbs import Priors\n",
        "import Gibbs.StepsHelper as StepsHelper\n",
        "import time\n",
        "import math"
      ]
    },
    {
      "cell_type": "code",
      "execution_count": 5,
      "metadata": {
        "id": "pvxSuChtzUG0"
      },
      "outputs": [],
      "source": [
        "if torch.cuda.is_available():\n",
        "    device = torch.device(\"cuda\")\n",
        "else:\n",
        "    device = torch.device(\"cpu\")"
      ]
    },
    {
      "cell_type": "markdown",
      "metadata": {
        "id": "TyZrPydXzK9B"
      },
      "source": [
        "## Iniatlizing parameters"
      ]
    },
    {
      "cell_type": "code",
      "execution_count": 6,
      "metadata": {
        "id": "J4V0Q83QzP5X"
      },
      "outputs": [],
      "source": [
        "data = generate_multiple_series(150, 120, 10**4, 10**5, \"gibbs.csv\")\n",
        "w = np.random.random(120)\n",
        "w = w/np.sum(w)\n",
        "w = torch.tensor(w, device=device)"
      ]
    },
    {
      "cell_type": "code",
      "execution_count": 7,
      "metadata": {
        "id": "e3NbKXj8zYgm"
      },
      "outputs": [],
      "source": [
        "n = 120\n",
        "m = 25\n",
        "l = 10\n",
        "T = 150\n",
        "q = 16\n",
        "q_hat = q+15\n",
        "R_hat = Regressors.find_regressors(T, q_hat).T"
      ]
    },
    {
      "cell_type": "code",
      "execution_count": 8,
      "metadata": {
        "id": "_gmwbps13j9g"
      },
      "outputs": [],
      "source": [
        "def initialize(data, w, n, m, l, T, q, q_hat, device):\n",
        "  R_hat = Regressors.find_regressors(T, q_hat).T\n",
        "  X_i = Initialize.initialize_X(data, q)\n",
        "  F = Initialize.initialize_F(X_i, w, q_hat)\n",
        "  S_m, sigma_m, Sigma_m = Initialize.initialize_S_m(T, R_hat, device)\n",
        "  K = torch.tensor(Priors.group_factors(m, l), device=device)\n",
        "  J = torch.tensor(Priors.group_factors(n, m), device=device)\n",
        "  lambdas = Lambda_Parameters(n, m, device)\n",
        "  kappas = Kappa_Parameters(n, m, l, device)\n",
        "  p_parameters = P_Parameters(device)\n",
        "\n",
        "  s_Da = Initialize.inverse_squared(0.03**2)\n",
        "  A, Sigma_A = Initialize.init_Sigma_A(R_hat, T, q_hat, s_Da)\n",
        "\n",
        "  f_0 = Priors.flat_prior(0, 10**6)\n",
        "  mu_m = Priors.flat_prior(0, 10**6)\n",
        "  mu_c = Priors.flat_prior(0, 10**6)\n",
        "  omega_squared = Initialize.inverse_squared(1)\n",
        "\n",
        "  U = U_Parameters(omega_squared, lambdas, kappas, R_hat, n, m, l, T, device)\n",
        "\n",
        "  G = []\n",
        "  for j in range(m):\n",
        "      G_j = lambdas.lambda_g_j[j]*U.H[K[j]]+U.U_g[j]\n",
        "      G.append(G_j)\n",
        "  G = torch.stack(G)\n",
        "\n",
        "  C = []\n",
        "  i_1 = torch.zeros(q_hat+1, device=device)\n",
        "  i_1[0] = 1\n",
        "  for i in range(n):\n",
        "      C_i = mu_c*i_1+lambdas.lambda_c_i[i]*G[J[i]]+U.U_c[i]\n",
        "      C.append(C_i)\n",
        "  C = torch.stack(C)\n",
        "  Ys = []\n",
        "  for i in range(n):\n",
        "      Y_i, _ = LowFrequencyTrends.find_trends(data[i], q)\n",
        "      Ys.append(Y_i)\n",
        "\n",
        "  Y = np.array(Ys).flatten()\n",
        "  Y = torch.tensor(Y, device=device)\n",
        "\n",
        "  return X_i, F, S_m, sigma_m, Sigma_m, K, J, lambdas, kappas, p_parameters, s_Da, A, Sigma_A, f_0, mu_m, mu_c, omega_squared, U, G, C, Y"
      ]
    },
    {
      "cell_type": "code",
      "execution_count": 9,
      "metadata": {
        "colab": {
          "base_uri": "https://localhost:8080/"
        },
        "id": "U5UPtkE-4pzP",
        "outputId": "403cb605-5b38-4be0-df72-4a8dfc32f2a9"
      },
      "outputs": [],
      "source": [
        "X_i, F, S_m, sigma_m, Sigma_m, K, J, lambdas, kappas, p_parameters, s_Da, A, Sigma_A, f_0, mu_m, mu_c, omega_squared, U, G, C, Y = initialize(data, w, n, m, l, T, q, q_hat, device)"
      ]
    },
    {
      "cell_type": "markdown",
      "metadata": {
        "id": "3wyp97NU5Btk"
      },
      "source": [
        "## Step 1"
      ]
    },
    {
      "cell_type": "markdown",
      "metadata": {
        "id": "IJlHJFo86k6_"
      },
      "source": [
        "Stable parameters:"
      ]
    },
    {
      "cell_type": "code",
      "execution_count": 10,
      "metadata": {
        "id": "_5ugUZT95EAN"
      },
      "outputs": [],
      "source": [
        "dim = (q_hat+1)*n\n",
        "Sigma = torch.zeros((dim, dim), device=device)\n",
        "for i in range(n):\n",
        "    Sigma[i*(q_hat+1):(i+1)*(q_hat+1), i*(q_hat+1):(i+1)*(q_hat+1)] = U.S_U_c[i]"
      ]
    },
    {
      "cell_type": "code",
      "execution_count": 11,
      "metadata": {
        "id": "dhMbqvR352tV"
      },
      "outputs": [],
      "source": [
        "I = torch.eye(q_hat+1, device=device)\n",
        "ws = torch.kron(w.t(), I).t()\n",
        "Delta = torch.eye(q_hat+1, device=device)*0.01**2"
      ]
    },
    {
      "cell_type": "code",
      "execution_count": 12,
      "metadata": {
        "id": "nV02klbO9Irp"
      },
      "outputs": [],
      "source": [
        "def step1(X_i, ws, Delta, Y, C, F, lambdas, n, device):\n",
        "  Y0 = torch.matmul(w, C)\n",
        "  i_1 = torch.zeros(q_hat+1, device=device)\n",
        "  i_1[0] = 1\n",
        "  mu_C = torch.cat([mu_c*i_1.t()+lambdas.lambda_c_i[i]*G[J[i]].t() for i in range(n)]).t()\n",
        "  X = torch.flatten(X_i)\n",
        "  B = StepsHelper.find_B(Y, X, device)\n",
        "  Cs = torch.flatten(C)\n",
        "  helper = torch.linalg.multi_dot([Sigma, B, torch.inverse(torch.linalg.multi_dot([B.t(), Sigma, B])), B.t()])\n",
        "  V = Sigma-torch.matmul(helper, Sigma)\n",
        "  normal_V = V/torch.norm(V)\n",
        "  Z0 = StepsHelper.draw_independent_samples(mu_C.float(), normal_V.float(), n)\n",
        "  Z1 = Z0-torch.matmul(helper, Z0-Cs.float())\n",
        "  e_dist = torch.distributions.MultivariateNormal(Y0.float(), Delta.float())\n",
        "  epsilon = e_dist.sample()\n",
        "  ep = torch.repeat_interleave(epsilon, repeats=n)\n",
        "  inv_help = torch.inverse(torch.linalg.multi_dot([ws.t().float(), V, ws.float()])+Delta)\n",
        "  Cs = Z1-torch.linalg.multi_dot([V, ws.float(), inv_help, ws.t().float(), Z1-ep])\n",
        "  CC = torch.reshape(Cs, (n, q_hat+1))\n",
        "  XX = CC-F\n",
        "  return XX, CC, Sigma, mu_C, Y0, X"
      ]
    },
    {
      "cell_type": "code",
      "execution_count": 13,
      "metadata": {
        "id": "Kso5G5_29G1O"
      },
      "outputs": [],
      "source": [
        "X_i, C, Sigma, mu_C, Y0, X = step1(X_i, ws, Delta, Y, C, F, lambdas, n, device)"
      ]
    },
    {
      "cell_type": "markdown",
      "metadata": {
        "id": "3SAENY2e_3Wk"
      },
      "source": [
        "## Step 2"
      ]
    },
    {
      "cell_type": "markdown",
      "metadata": {
        "id": "_a1TacxZAfAT"
      },
      "source": [
        "Standard parameters:"
      ]
    },
    {
      "cell_type": "code",
      "execution_count": 14,
      "metadata": {
        "id": "mQ-bvbQv_5Iw"
      },
      "outputs": [],
      "source": [
        "e = torch.kron(torch.ones(n, device=device).t(), I).t()"
      ]
    },
    {
      "cell_type": "code",
      "execution_count": 15,
      "metadata": {
        "id": "PVNzwiCfDrvk"
      },
      "outputs": [],
      "source": [
        "def step2(e, f_0, mu_m, sigma_m, Sigma_m, s_Da, Sigma_A, Sigma, Delta, mu_C, ws, X, Y0):\n",
        "  i_1 = torch.zeros(q_hat+1, device=device)\n",
        "  i_1[0] = 1\n",
        "  i_2 = torch.zeros(q_hat+1, device=device)\n",
        "  i_2[1] = 1\n",
        "  mu_F = i_1*f_0+i_2*mu_m\n",
        "  Sigma_F = sigma_m**3*Sigma_m+s_Da**2*Sigma_A\n",
        "  V_F = torch.inverse(torch.inverse(Sigma_F)+torch.linalg.multi_dot([e.t().float(), torch.inverse(Sigma).float(), e.float()])+torch.inverse(Delta))\n",
        "  helper = X.double()-mu_C.double()-torch.matmul(e.double(), mu_F.double()).double()\n",
        "  add1 = torch.linalg.multi_dot([e.t().float(), torch.inverse(Sigma).float(), helper.float()])\n",
        "  add2 = torch.matmul(torch.inverse(Delta).float(), torch.matmul(ws.t().float(), X.float()).float()-Y0.float()-mu_F.float())\n",
        "  m_F = torch.matmul(V_F.float(), add1.float()+add2.float())\n",
        "  dist = torch.distributions.MultivariateNormal(m_F.float(), StepsHelper.make_positive_definite(V_F).float())\n",
        "  draw = dist.sample()\n",
        "  FF = draw+mu_F\n",
        "  Sigma_S = sigma_m**2*Sigma_m\n",
        "  mult = FF-mu_F\n",
        "  mean_S_m = torch.linalg.multi_dot([Sigma_S.float(), torch.inverse(Sigma_F).float(), mult.float()])\n",
        "  var_S_m = Sigma_S-torch.linalg.multi_dot([Sigma_S.float(), torch.inverse(Sigma_F).float(), Sigma_S.float()])\n",
        "  S_m_dist = torch.distributions.MultivariateNormal(mean_S_m.float(), StepsHelper.make_positive_definite(var_S_m.float()))\n",
        "  SS_m = S_m_dist.sample()\n",
        "  return FF, SS_m"
      ]
    },
    {
      "cell_type": "code",
      "execution_count": 16,
      "metadata": {
        "id": "Jv-Pyt_dEfeg"
      },
      "outputs": [],
      "source": [
        "F, S_m = step2(e, f_0, mu_m, sigma_m, Sigma_m, s_Da, Sigma_A, Sigma, Delta, mu_C, ws, X, Y0)"
      ]
    },
    {
      "cell_type": "markdown",
      "metadata": {
        "id": "9kGwyPhGEzNZ"
      },
      "source": [
        "## Step 3"
      ]
    },
    {
      "cell_type": "code",
      "execution_count": 17,
      "metadata": {
        "id": "azyOlQOME1rK"
      },
      "outputs": [],
      "source": [
        "Sigma_g_j = []\n",
        "inv_g_j = []\n",
        "for i in range(m):\n",
        "  g_j = omega_squared*kappas.kappa_g_j[i]**2*(1-lambdas.lambda_g_j[i]**2)*U.S_U_g[i]\n",
        "  Sigma_g_j.append(g_j)\n",
        "  inv_g_j.append(torch.inverse(g_j))"
      ]
    },
    {
      "cell_type": "code",
      "execution_count": 18,
      "metadata": {
        "id": "RfIvEig4Gf-Q"
      },
      "outputs": [],
      "source": [
        "Sigma_c_i = []\n",
        "inv_c_i = []\n",
        "for i in range(n):\n",
        "  c_i = omega_squared*kappas.kappa_c_i[i]**2*(1-lambdas.lambda_c_i[i]**2)*U.S_U_c[i]\n",
        "  Sigma_c_i.append(c_i)\n",
        "  inv_c_i.append(torch.inverse(c_i))"
      ]
    },
    {
      "cell_type": "code",
      "execution_count": 19,
      "metadata": {
        "id": "LxQjXp8EPhxf"
      },
      "outputs": [],
      "source": [
        "def iterate_step3(omega_squared, lambdas, inv_c_i, inv_sigma, J, ind, q_hat, C, U, device):\n",
        "  find_ind = torch.where(J == ind)[0]\n",
        "  sum1 = torch.zeros((q_hat+1, q_hat+1), device=device)\n",
        "  for i in find_ind:\n",
        "    sum1 += lambdas.lambda_c_i[i]**2*inv_c_i[i]\n",
        "  V_G_ind = torch.inverse(inv_sigma+sum1)\n",
        "  i_1 = torch.zeros(q_hat+1, device=device)\n",
        "  i_1[0] = 1\n",
        "  sum2 = torch.zeros(q_hat+1, device=device)\n",
        "  for i in find_ind:\n",
        "    sum2 += lambdas.lambda_c_i[i]*torch.matmul(inv_c_i[i].float(), C[i]-mu_c*i_1)\n",
        "\n",
        "  m_G_ind = torch.matmul(V_G_ind, lambdas.lambda_g_j[ind]*torch.matmul(inv_sigma, U.H[K[ind]])+sum2)\n",
        "  dist = torch.distributions.MultivariateNormal(m_G_ind, StepsHelper.make_positive_definite(V_G_ind))\n",
        "  return dist.sample()"
      ]
    },
    {
      "cell_type": "code",
      "execution_count": 20,
      "metadata": {
        "id": "5pWxBfcsRvRP"
      },
      "outputs": [],
      "source": [
        "def step3(omega_squared, lambdas, inv_c_i, inv_g_j, J, q_hat, m, C, U, device):\n",
        "  new_G = []\n",
        "  for j in range(m):\n",
        "    new_G.append(iterate_step3(omega_squared, lambdas, inv_c_i, inv_g_j[j], J, j, q_hat, C, U, device))\n",
        "\n",
        "  return torch.stack(new_G)"
      ]
    },
    {
      "cell_type": "code",
      "execution_count": 21,
      "metadata": {
        "id": "s3NLaB7OSnQr"
      },
      "outputs": [],
      "source": [
        "G = step3(omega_squared, lambdas, inv_c_i, inv_g_j, J, q_hat, m, C, U, device)"
      ]
    },
    {
      "cell_type": "markdown",
      "metadata": {
        "id": "y54brlsTrfDg"
      },
      "source": [
        "## Step 4"
      ]
    },
    {
      "cell_type": "code",
      "execution_count": 22,
      "metadata": {
        "id": "6OuQwFUrrg_-"
      },
      "outputs": [],
      "source": [
        "Sigma_H_k = []\n",
        "inv_h_k = []\n",
        "for i in range(l):\n",
        "  h_k = omega_squared*kappas.kappa_h_k[i]**2*U.S_h[i]\n",
        "  Sigma_H_k.append(h_k)\n",
        "  inv_h_k.append(torch.inverse(h_k))"
      ]
    },
    {
      "cell_type": "code",
      "execution_count": 23,
      "metadata": {
        "id": "j_kl5x_7sLmA"
      },
      "outputs": [],
      "source": [
        "def iterate_step4(lambdas, K, G, ind, inv_g_j, inv_sigma, q_hat, device):\n",
        "  find_ind = torch.where(K == ind)[0]\n",
        "  sum1 = torch.zeros((q_hat+1, q_hat+1), device=device)\n",
        "  for i in find_ind:\n",
        "    sum1 += lambdas.lambda_g_j[i]**2*inv_g_j[i]\n",
        "  V_H_k = torch.inverse(inv_sigma+sum1)\n",
        "  sum2 = torch.zeros(q_hat+1, device=device)\n",
        "  for i in find_ind:\n",
        "    sum2 += lambdas.lambda_g_j[i]*torch.matmul(inv_g_j[i], G[i])\n",
        "  m_H_k = torch.matmul(V_H_k.float(), sum2.float())\n",
        "  dist = torch.distributions.MultivariateNormal(m_H_k.float(), StepsHelper.make_positive_definite(V_H_k).float())\n",
        "  return dist.sample()"
      ]
    },
    {
      "cell_type": "code",
      "execution_count": 24,
      "metadata": {
        "id": "8EivwhGSuhFV"
      },
      "outputs": [],
      "source": [
        "def step4(lambdas, K, G, inv_g_j, inv_h_k, l, q_hat, device):\n",
        "  new_H = []\n",
        "  for k in range(l):\n",
        "    new_H.append(iterate_step4(lambdas, K, G, k, inv_g_j, inv_h_k[k], q_hat, device))\n",
        "  return new_H"
      ]
    },
    {
      "cell_type": "code",
      "execution_count": 25,
      "metadata": {
        "id": "tz7qOtMbvLGd"
      },
      "outputs": [],
      "source": [
        "U.H = step4(lambdas, K, G, inv_g_j, inv_h_k, l, q_hat, device)"
      ]
    },
    {
      "cell_type": "markdown",
      "metadata": {
        "id": "hvDqW5qqvl1G"
      },
      "source": [
        "## Step 5"
      ]
    },
    {
      "cell_type": "code",
      "execution_count": 26,
      "metadata": {
        "id": "cDwp9kKYyyma"
      },
      "outputs": [],
      "source": [
        "def step5(q_hat, lambdas, C, G, J, inv_c_i):\n",
        "  i_1 = torch.zeros(q_hat+1, device=device)\n",
        "  i_1[0] = 1\n",
        "  denominator = 0\n",
        "  numerator = 0\n",
        "  for i in range(n):\n",
        "    add = C[i]-lambdas.lambda_c_i[i]*G[J[i]]\n",
        "    numerator += torch.linalg.multi_dot([i_1.t(), inv_c_i[i].float(), add.float()]).item()\n",
        "    denominator += torch.linalg.multi_dot([i_1.t().float(), inv_c_i[i].float(), i_1.float()]).item()\n",
        "\n",
        "  mean_mu_c = numerator/denominator\n",
        "  var_mu_c = 1/denominator\n",
        "  return torch.normal(mean = mean_mu_c, std = torch.sqrt(torch.tensor(var_mu_c, device=device))).item()"
      ]
    },
    {
      "cell_type": "code",
      "execution_count": 27,
      "metadata": {
        "id": "hx39p0gxzHxD"
      },
      "outputs": [],
      "source": [
        "mu_c = step5(q_hat, lambdas, C, G, J, inv_c_i)"
      ]
    },
    {
      "cell_type": "markdown",
      "metadata": {
        "id": "zFtAvA_z2y6E"
      },
      "source": [
        "## Step 6"
      ]
    },
    {
      "cell_type": "code",
      "execution_count": 28,
      "metadata": {},
      "outputs": [],
      "source": [
        "def iterate_step6(omega_squared, p_parameters, kappa_param, lambda_param, S_U, mu_c, C_vec, q_hat, grid_points, device):\n",
        "    # i_1 = torch.zeros(q_hat+1, device=device)\n",
        "    # i_1[0] = 1\n",
        "    # getcontext().prec = 50\n",
        "    # eul = math.exp(1)\n",
        "    # ps = []\n",
        "    # exps = []\n",
        "    # sum = Decimal('0')\n",
        "    # for j in range(25):\n",
        "    #     helper = C_vec-mu_c*i_1-grid_points[j]\n",
        "    #     between = torch.inverse(omega_squared*kappa_param**2*(1-grid_points[j]**2)*S_U)\n",
        "    #     exponent = -0.5*torch.linalg.multi_dot([helper.t().float(), between.float(), helper.float()]).item()\n",
        "    #     last_factor = (1-grid_points[j]**2)**(-(q_hat+1)/2)\n",
        "    #     p_dec = Decimal(str(p_parameters.p_c_lambda[j].item()))\n",
        "    #     exp_dec = Decimal(str(eul))**Decimal(str(exponent))\n",
        "    #     last_dec = Decimal(str(last_factor.item()))\n",
        "    #     prop = p_dec*exp_dec*last_dec\n",
        "    #     ps.append(prop)\n",
        "    #     exps.append(exp_dec)\n",
        "    # float_tens = torch.tensor(ps, dtype=torch.float)\n",
        "    # print(float_tens)\n",
        "    # index = torch.multinomial(torch.abs(float_tens), 1).item()\n",
        "    # return grid_points[index]\n",
        "    # return ps\n",
        "    ps = []\n",
        "    for j in range(25):\n",
        "        exponential = math.exp(-0.5*lambda_param*(1-grid_points[j]**2))\n",
        "        last_factor = (1-grid_points[j]**2)**((q_hat+1)/2)\n",
        "        ps.append(p_parameters.p_c_lambda[j]*exponential*last_factor)\n",
        "    tens = torch.tensor(ps, device=device)\n",
        "    index = torch.multinomial(torch.abs(tens), 1).item()\n",
        "    return grid_points[index].item()"
      ]
    },
    {
      "cell_type": "code",
      "execution_count": 29,
      "metadata": {},
      "outputs": [],
      "source": [
        "def step6(omega_squared, kappas, lambdas, U, p_parameters, mu_c, C, q_hat, n, device):\n",
        "    grid_points = torch.linspace(0, 0.95, 25)\n",
        "    new_lambda_c_i = []\n",
        "    for i in range(n):\n",
        "        new_lambda_c_i.append(iterate_step6(omega_squared, p_parameters=p_parameters, kappa_param=kappas.kappa_c_i[i], lambda_param=lambdas.lambda_c_i[i], S_U=U.S_U_c[i], mu_c=mu_c, C_vec=C[i], q_hat=q_hat, grid_points=grid_points, device=device))\n",
        "    return new_lambda_c_i"
      ]
    },
    {
      "cell_type": "code",
      "execution_count": 30,
      "metadata": {},
      "outputs": [],
      "source": [
        "lambdas.lambda_c_i = step6(omega_squared, kappas, lambdas, U, p_parameters, mu_c, C, q_hat, n, device)"
      ]
    },
    {
      "cell_type": "markdown",
      "metadata": {},
      "source": [
        "## Step 7"
      ]
    },
    {
      "cell_type": "code",
      "execution_count": 31,
      "metadata": {},
      "outputs": [],
      "source": [
        "def iterate_step7(omega_squared, p_parameters, kappa_param, lambda_param, S_U, G_vec, H_vec, q_hat, grid_points, device):\n",
        "    # getcontext().prec = 50\n",
        "    # eul = math.exp(1)\n",
        "    # ps = []\n",
        "    # exps = []\n",
        "    # sum = Decimal('0')\n",
        "    # for j in range(25):\n",
        "    #     helper = G_vec-grid_points[j]*H_vec\n",
        "    #     between = torch.inverse(omega_squared*kappa_param**2*(1-grid_points[j]**2)*S_U)\n",
        "    #     exponent = -0.5*torch.linalg.multi_dot([helper.t().float(), between.float(), helper.float()]).item()\n",
        "    #     last_factor = (1-grid_points[j]**2)**(-(q_hat+1)/2)\n",
        "    #     p_dec = Decimal(str(p_parameters.p_g_lambda[j].item()))\n",
        "    #     exp_dec = Decimal(str(eul))**Decimal(str(exponent))\n",
        "    #     last_dec = Decimal(str(last_factor.item()))\n",
        "    #     prop = p_dec*exp_dec*last_dec\n",
        "    #     ps.append(prop)\n",
        "    #     exps.append(exp_dec)\n",
        "    # float_tens = torch.tensor(ps, dtype=torch.float, device=device)\n",
        "    # index = torch.multinomial(float_tens, 1).item()\n",
        "    # return grid_points[index].item()\n",
        "\n",
        "    ps = []\n",
        "    for j in range(25):\n",
        "        exponential = math.exp(-0.5*lambda_param*(1-grid_points[j]**2))\n",
        "        last_factor = (1-grid_points[j]**2)**((q_hat+1)/2)\n",
        "        ps.append(p_parameters.p_g_lambda[j]*exponential*last_factor)\n",
        "    tens = torch.tensor(ps, device=device)\n",
        "    index = torch.multinomial(torch.abs(tens), 1).item()\n",
        "    return grid_points[index].item()"
      ]
    },
    {
      "cell_type": "code",
      "execution_count": 32,
      "metadata": {},
      "outputs": [],
      "source": [
        "def step7(omega_squared, p_parameters, kappas, lambdas, U, G, m, K, q_hat, device):\n",
        "    grid_points = torch.linspace(0, 0.95, 25)\n",
        "    new_lambda_g_j = []\n",
        "    for i in range(m):\n",
        "        new_lambda_g_j.append(iterate_step7(omega_squared, p_parameters, kappas.kappa_g_j[i], lambdas.lambda_g_j[i], U.S_U_g[i], G[i], U.H[K[i]], q_hat, grid_points, device=device))\n",
        "    return new_lambda_g_j"
      ]
    },
    {
      "cell_type": "code",
      "execution_count": 33,
      "metadata": {},
      "outputs": [],
      "source": [
        "lambdas.lambda_g_j = step7(omega_squared, p_parameters, kappas, lambdas, U, G, m, K, q_hat, device)"
      ]
    },
    {
      "cell_type": "markdown",
      "metadata": {},
      "source": [
        "## Step 8"
      ]
    },
    {
      "cell_type": "code",
      "execution_count": null,
      "metadata": {},
      "outputs": [],
      "source": []
    }
  ],
  "metadata": {
    "accelerator": "GPU",
    "colab": {
      "collapsed_sections": [
        "TyZrPydXzK9B",
        "3wyp97NU5Btk",
        "3SAENY2e_3Wk",
        "9kGwyPhGEzNZ",
        "y54brlsTrfDg",
        "hvDqW5qqvl1G"
      ],
      "gpuType": "T4",
      "provenance": []
    },
    "kernelspec": {
      "display_name": "Python 3",
      "name": "python3"
    },
    "language_info": {
      "codemirror_mode": {
        "name": "ipython",
        "version": 3
      },
      "file_extension": ".py",
      "mimetype": "text/x-python",
      "name": "python",
      "nbconvert_exporter": "python",
      "pygments_lexer": "ipython3",
      "version": "3.10.11"
    }
  },
  "nbformat": 4,
  "nbformat_minor": 0
}
