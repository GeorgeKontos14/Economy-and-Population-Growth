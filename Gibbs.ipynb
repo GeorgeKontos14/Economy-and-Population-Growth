{
 "cells": [
  {
   "cell_type": "code",
   "execution_count": 1,
   "metadata": {},
   "outputs": [],
   "source": [
    "import numpy as np\n",
    "from GibbsSampler import GibbsSampler\n",
    "from DataGeneration import generate_multiple_series"
   ]
  },
  {
   "cell_type": "markdown",
   "metadata": {},
   "source": [
    "### Initialize the Gibbs Sampler\n",
    "Data and weights:"
   ]
  },
  {
   "cell_type": "code",
   "execution_count": 2,
   "metadata": {},
   "outputs": [],
   "source": [
    "data = generate_multiple_series(150, 120, 10**4, 10**5, \"gibbs.csv\")\n",
    "w = np.random.random(120)\n",
    "w = w/np.sum(w)"
   ]
  },
  {
   "cell_type": "markdown",
   "metadata": {},
   "source": [
    "Create the Gibbs sampler object:"
   ]
  },
  {
   "cell_type": "code",
   "execution_count": 3,
   "metadata": {},
   "outputs": [
    {
     "name": "stderr",
     "output_type": "stream",
     "text": [
      "c:\\Users\\konto\\Documents\\Economy-and-Population-Growth\\Priors.py:78: RuntimeWarning: covariance is not positive-semidefinite.\n",
      "  return np.random.multivariate_normal(mean=mean, cov=cov, size=n)\n"
     ]
    }
   ],
   "source": [
    "gibbs = GibbsSampler(data, 16, w)"
   ]
  },
  {
   "cell_type": "markdown",
   "metadata": {},
   "source": [
    "### Step 1: Calculate $\\{X_i\\}_{i=1}^n$"
   ]
  },
  {
   "cell_type": "code",
   "execution_count": 4,
   "metadata": {},
   "outputs": [],
   "source": [
    "gibbs.step_1()"
   ]
  }
 ],
 "metadata": {
  "language_info": {
   "name": "python"
  }
 },
 "nbformat": 4,
 "nbformat_minor": 2
}
