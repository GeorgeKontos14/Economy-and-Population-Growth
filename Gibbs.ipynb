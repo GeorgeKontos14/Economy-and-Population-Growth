{
 "cells": [
  {
   "cell_type": "code",
   "execution_count": 1,
   "metadata": {},
   "outputs": [],
   "source": [
    "import torch\n",
    "import os\n",
    "# os.chdir('/content/Economy-and-Population-Growth')"
   ]
  },
  {
   "cell_type": "code",
   "execution_count": 2,
   "metadata": {},
   "outputs": [],
   "source": [
    "# !git pull origin\n",
    "torch.cuda.is_available()\n",
    "from DataGeneration import generate_multiple_series\n",
    "from Gibbs.Steps import *\n",
    "from Gibbs.Parameters import step1_params, step2_params\n",
    "\n",
    "if torch.cuda.is_available():\n",
    "    device = torch.device(\"cuda\")\n",
    "else:\n",
    "    device = torch.device(\"cpu\")"
   ]
  },
  {
   "cell_type": "code",
   "execution_count": 3,
   "metadata": {},
   "outputs": [],
   "source": [
    "data = generate_multiple_series(150, 120, 10**4, 10**5, \"gibbs.csv\")\n",
    "w = np.random.random(120)\n",
    "w = w/np.sum(w)\n",
    "w = torch.tensor(w, device=device)\n",
    "n = 120\n",
    "m = 25\n",
    "l = 10\n",
    "T = 150\n",
    "q = 16\n",
    "q_hat = q+15\n",
    "burn_in = 1\n",
    "draws = 3"
   ]
  },
  {
   "cell_type": "code",
   "execution_count": 4,
   "metadata": {},
   "outputs": [],
   "source": [
    "def run_Gibbs(data, n, m, l, w, T, q, q_hat, burn_in, draws, device):\n",
    "    X_i, F, S_m, sigma_m, Sigma_m, rho_m, K, J, lambdas, kappas, p_parameters, s_Da, A, Sigma_A, f_0, mu_m, mu_c, omega_squared, U, G, C, Y, R_hat = initialize(data, n, m, l, T, q, q_hat, device)\n",
    "    I, ws, Delta = step1_params(q_hat, n, U, w, device)\n",
    "    e = step2_params(n, I, device)\n",
    "    for counter in range(draws):\n",
    "        X_i, C, Sigma, mu_C, Y0, X = step1(X_i, U, w, ws, Delta, Y, C, G, J, F, mu_c, lambdas, n, q_hat, device)\n",
    "        F, S_m, Sigma_F = step2(e, f_0, mu_m, sigma_m, Sigma_m, s_Da, Sigma_A, Sigma, Delta, mu_C, ws, q_hat, X, Y0, device)\n",
    "        G, inv_g_j, inv_c_i = step3(omega_squared, lambdas, kappas,  mu_c, K, J, q_hat, m, n, C, U, device)\n",
    "        U.H, inv_h_k = step4(lambdas, kappas, U, omega_squared, K, G, inv_g_j, l, q_hat, device)\n",
    "        mu_c = step5(q_hat, lambdas, C, G, J, inv_c_i, n, device)\n",
    "        lambdas.lambda_c_i = step6(omega_squared, kappas, U, p_parameters, mu_c, C, G, J, q_hat, n, device)\n",
    "        lambdas.lambda_g_j = step7(omega_squared, p_parameters, kappas, U, G, m, K, q_hat, device)\n",
    "        U.U_c, U.theta_c_i = step8(omega_squared, p_parameters, kappas, lambdas, U, X_i, F, mu_c, G, J, q_hat, n, device)\n",
    "        U.U_g, U.theta_g_j = step9(omega_squared, p_parameters, kappas, lambdas, U, G, K, m, device)\n",
    "        U.theta_h_k = step10(omega_squared, p_parameters, kappas, U, l, device)\n",
    "        omega_squared = step11(n, m, l, kappas, lambdas, U, q_hat)\n",
    "        kappas.kappa_c_i = step12(omega_squared, p_parameters, lambdas, U, q_hat, n, device)\n",
    "        kappas.kappa_g_j = step13(omega_squared, p_parameters, lambdas, U, q_hat, m, device)\n",
    "        kappas.kappa_h_k = step14(omega_squared, p_parameters, U, q_hat, l, device)\n",
    "        J = step15(omega_squared, kappas, lambdas, C, G, U, n, m, mu_c, q_hat, device)\n",
    "        K = step16(omega_squared, kappas, lambdas, G, U, m, l, device)\n",
    "        f_0, mu_m = step17(F, Sigma_F, q_hat, device)\n",
    "        s_Da, A = step18(F, S_m, Sigma_A, f_0, mu_m, q_hat, device)\n",
    "        sigma_m = step19(S_m, Sigma_m, p_parameters, q_hat, device)\n",
    "        rho_m, Sigma_m = step20(U, sigma_m, S_m, device)\n",
    "        p_parameters.p_c_lambda = step21(lambdas, device)\n",
    "        p_parameters.p_g_lambda = step22(lambdas, device)\n",
    "        p_parameters.p_c_theta = step23(U, device)\n",
    "        p_parameters.p_g_theta = step24(U, device)\n",
    "        p_parameters.p_h_theta = step25(U, device)\n",
    "        p_parameters.p_c_kappa = step26(kappas, device)\n",
    "        p_parameters.p_g_kappa = step27(kappas, device)\n",
    "        p_parameters.p_h_k = step28(kappas, device)\n",
    "    print(lambdas.lambda_c_i)\n"
   ]
  },
  {
   "cell_type": "code",
   "execution_count": 5,
   "metadata": {},
   "outputs": [
    {
     "name": "stdout",
     "output_type": "stream",
     "text": [
      "tensor([0.4354, 0.1979, 0.3562, 0.2771, 0.0000, 0.5938, 0.9500, 0.1979, 0.4750,\n",
      "        0.2771, 0.0000, 0.9104, 0.8313, 0.5542, 0.9104, 0.3958, 0.5542, 0.7917,\n",
      "        0.2771, 0.9500, 0.9500, 0.1583, 0.3167, 0.6729, 0.5938, 0.7125, 0.8313,\n",
      "        0.7521, 0.3958, 0.2375, 0.1187, 0.9500, 0.7125, 0.6729, 0.8313, 0.8313,\n",
      "        0.5146, 0.3958, 0.9500, 0.4750, 0.6333, 0.5146, 0.7917, 0.9104, 0.1187,\n",
      "        0.8313, 0.4354, 0.8313, 0.2375, 0.5542, 0.5542, 0.0396, 0.3167, 0.6333,\n",
      "        0.2771, 0.6729, 0.1583, 0.8708, 0.3562, 0.6729, 0.7125, 0.0396, 0.2375,\n",
      "        0.8313, 0.1583, 0.0396, 0.1583, 0.6729, 0.9500, 0.0396, 0.4354, 0.5146,\n",
      "        0.3167, 0.3958, 0.0396, 0.3562, 0.4354, 0.9104, 0.1979, 0.7917, 0.2771,\n",
      "        0.5146, 0.3167, 0.6729, 0.0792, 0.0792, 0.4750, 0.0396, 0.3562, 0.0000,\n",
      "        0.7917, 0.6333, 0.9500, 0.2771, 0.5542, 0.4750, 0.5146, 0.5146, 0.9500,\n",
      "        0.1583, 0.9104, 0.8708, 0.4750, 0.3562, 0.7917, 0.6729, 0.5146, 0.0000,\n",
      "        0.3562, 0.8708, 0.6333, 0.8313, 0.3167, 0.0792, 0.1583, 0.3562, 0.6729,\n",
      "        0.3167, 0.5146, 0.0000])\n"
     ]
    }
   ],
   "source": [
    "run_Gibbs(data, n, m, l, w, T, q, q_hat, burn_in, draws, device)"
   ]
  },
  {
   "cell_type": "code",
   "execution_count": null,
   "metadata": {},
   "outputs": [],
   "source": []
  }
 ],
 "metadata": {
  "kernelspec": {
   "display_name": "Python 3",
   "language": "python",
   "name": "python3"
  },
  "language_info": {
   "codemirror_mode": {
    "name": "ipython",
    "version": 3
   },
   "file_extension": ".py",
   "mimetype": "text/x-python",
   "name": "python",
   "nbconvert_exporter": "python",
   "pygments_lexer": "ipython3",
   "version": "3.10.11"
  }
 },
 "nbformat": 4,
 "nbformat_minor": 2
}
